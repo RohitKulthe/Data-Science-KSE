{
 "cells": [
  {
   "cell_type": "code",
   "execution_count": 34,
   "id": "7ff1771e",
   "metadata": {},
   "outputs": [],
   "source": [
    "#NAME:ROHIT BHUPENDRA KULTHE\n",
    "#DIV: T.E \"A\"\n",
    "#ROLL NO :40\n",
    "#COLLEGE:KEYSTONE SCHOOL OF ENGINEERING\n",
    "#TASK NO :8"
   ]
  },
  {
   "cell_type": "code",
   "execution_count": 2,
   "id": "52716664",
   "metadata": {},
   "outputs": [],
   "source": [
    "import pandas as pd"
   ]
  },
  {
   "cell_type": "code",
   "execution_count": 3,
   "id": "2044de12",
   "metadata": {},
   "outputs": [],
   "source": [
    "import numpy as np"
   ]
  },
  {
   "cell_type": "code",
   "execution_count": 4,
   "id": "9b241c24",
   "metadata": {},
   "outputs": [],
   "source": [
    "import matplotlib.pyplot as plt"
   ]
  },
  {
   "cell_type": "code",
   "execution_count": 5,
   "id": "81f0f808",
   "metadata": {},
   "outputs": [],
   "source": [
    "import seaborn as sns"
   ]
  },
  {
   "cell_type": "code",
   "execution_count": 6,
   "id": "e3f6c88d",
   "metadata": {},
   "outputs": [],
   "source": [
    "df = pd.read_csv('tips.csv')"
   ]
  },
  {
   "cell_type": "code",
   "execution_count": 7,
   "id": "279d445e",
   "metadata": {},
   "outputs": [
    {
     "data": {
      "text/html": [
       "<div>\n",
       "<style scoped>\n",
       "    .dataframe tbody tr th:only-of-type {\n",
       "        vertical-align: middle;\n",
       "    }\n",
       "\n",
       "    .dataframe tbody tr th {\n",
       "        vertical-align: top;\n",
       "    }\n",
       "\n",
       "    .dataframe thead th {\n",
       "        text-align: right;\n",
       "    }\n",
       "</style>\n",
       "<table border=\"1\" class=\"dataframe\">\n",
       "  <thead>\n",
       "    <tr style=\"text-align: right;\">\n",
       "      <th></th>\n",
       "      <th>total_bill</th>\n",
       "      <th>tip</th>\n",
       "      <th>sex</th>\n",
       "      <th>smoker</th>\n",
       "      <th>day</th>\n",
       "      <th>time</th>\n",
       "      <th>size</th>\n",
       "    </tr>\n",
       "  </thead>\n",
       "  <tbody>\n",
       "    <tr>\n",
       "      <th>0</th>\n",
       "      <td>16.99</td>\n",
       "      <td>1.01</td>\n",
       "      <td>Female</td>\n",
       "      <td>No</td>\n",
       "      <td>Sun</td>\n",
       "      <td>Dinner</td>\n",
       "      <td>2</td>\n",
       "    </tr>\n",
       "    <tr>\n",
       "      <th>1</th>\n",
       "      <td>10.34</td>\n",
       "      <td>1.66</td>\n",
       "      <td>Male</td>\n",
       "      <td>No</td>\n",
       "      <td>Sun</td>\n",
       "      <td>Dinner</td>\n",
       "      <td>3</td>\n",
       "    </tr>\n",
       "    <tr>\n",
       "      <th>2</th>\n",
       "      <td>21.01</td>\n",
       "      <td>3.50</td>\n",
       "      <td>Male</td>\n",
       "      <td>No</td>\n",
       "      <td>Sun</td>\n",
       "      <td>Dinner</td>\n",
       "      <td>3</td>\n",
       "    </tr>\n",
       "    <tr>\n",
       "      <th>3</th>\n",
       "      <td>23.68</td>\n",
       "      <td>3.31</td>\n",
       "      <td>Male</td>\n",
       "      <td>No</td>\n",
       "      <td>Sun</td>\n",
       "      <td>Dinner</td>\n",
       "      <td>2</td>\n",
       "    </tr>\n",
       "    <tr>\n",
       "      <th>4</th>\n",
       "      <td>24.59</td>\n",
       "      <td>3.61</td>\n",
       "      <td>Female</td>\n",
       "      <td>No</td>\n",
       "      <td>Sun</td>\n",
       "      <td>Dinner</td>\n",
       "      <td>4</td>\n",
       "    </tr>\n",
       "    <tr>\n",
       "      <th>...</th>\n",
       "      <td>...</td>\n",
       "      <td>...</td>\n",
       "      <td>...</td>\n",
       "      <td>...</td>\n",
       "      <td>...</td>\n",
       "      <td>...</td>\n",
       "      <td>...</td>\n",
       "    </tr>\n",
       "    <tr>\n",
       "      <th>239</th>\n",
       "      <td>29.03</td>\n",
       "      <td>5.92</td>\n",
       "      <td>Male</td>\n",
       "      <td>No</td>\n",
       "      <td>Sat</td>\n",
       "      <td>Dinner</td>\n",
       "      <td>3</td>\n",
       "    </tr>\n",
       "    <tr>\n",
       "      <th>240</th>\n",
       "      <td>27.18</td>\n",
       "      <td>2.00</td>\n",
       "      <td>Female</td>\n",
       "      <td>Yes</td>\n",
       "      <td>Sat</td>\n",
       "      <td>Dinner</td>\n",
       "      <td>2</td>\n",
       "    </tr>\n",
       "    <tr>\n",
       "      <th>241</th>\n",
       "      <td>22.67</td>\n",
       "      <td>2.00</td>\n",
       "      <td>Male</td>\n",
       "      <td>Yes</td>\n",
       "      <td>Sat</td>\n",
       "      <td>Dinner</td>\n",
       "      <td>2</td>\n",
       "    </tr>\n",
       "    <tr>\n",
       "      <th>242</th>\n",
       "      <td>17.82</td>\n",
       "      <td>1.75</td>\n",
       "      <td>Male</td>\n",
       "      <td>No</td>\n",
       "      <td>Sat</td>\n",
       "      <td>Dinner</td>\n",
       "      <td>2</td>\n",
       "    </tr>\n",
       "    <tr>\n",
       "      <th>243</th>\n",
       "      <td>18.78</td>\n",
       "      <td>3.00</td>\n",
       "      <td>Female</td>\n",
       "      <td>No</td>\n",
       "      <td>Thur</td>\n",
       "      <td>Dinner</td>\n",
       "      <td>2</td>\n",
       "    </tr>\n",
       "  </tbody>\n",
       "</table>\n",
       "<p>244 rows × 7 columns</p>\n",
       "</div>"
      ],
      "text/plain": [
       "     total_bill   tip     sex smoker   day    time  size\n",
       "0         16.99  1.01  Female     No   Sun  Dinner     2\n",
       "1         10.34  1.66    Male     No   Sun  Dinner     3\n",
       "2         21.01  3.50    Male     No   Sun  Dinner     3\n",
       "3         23.68  3.31    Male     No   Sun  Dinner     2\n",
       "4         24.59  3.61  Female     No   Sun  Dinner     4\n",
       "..          ...   ...     ...    ...   ...     ...   ...\n",
       "239       29.03  5.92    Male     No   Sat  Dinner     3\n",
       "240       27.18  2.00  Female    Yes   Sat  Dinner     2\n",
       "241       22.67  2.00    Male    Yes   Sat  Dinner     2\n",
       "242       17.82  1.75    Male     No   Sat  Dinner     2\n",
       "243       18.78  3.00  Female     No  Thur  Dinner     2\n",
       "\n",
       "[244 rows x 7 columns]"
      ]
     },
     "execution_count": 7,
     "metadata": {},
     "output_type": "execute_result"
    }
   ],
   "source": [
    "df"
   ]
  },
  {
   "cell_type": "markdown",
   "id": "f07de577",
   "metadata": {},
   "source": [
    "#1 Print the total number of entries in the dataset."
   ]
  },
  {
   "cell_type": "code",
   "execution_count": 8,
   "id": "fb720366",
   "metadata": {},
   "outputs": [
    {
     "name": "stdout",
     "output_type": "stream",
     "text": [
      "Total number of entries: 244\n"
     ]
    }
   ],
   "source": [
    "print(\"Total number of entries:\", df.shape[0])"
   ]
  },
  {
   "cell_type": "markdown",
   "id": "1fdd01c1",
   "metadata": {},
   "source": [
    "#2 What is the average tip amount?"
   ]
  },
  {
   "cell_type": "code",
   "execution_count": 9,
   "id": "2b2d2672",
   "metadata": {},
   "outputs": [
    {
     "name": "stdout",
     "output_type": "stream",
     "text": [
      "Average tip amount: 2.99827868852459\n"
     ]
    }
   ],
   "source": [
    "print(\"Average tip amount:\", df['tip'].mean())"
   ]
  },
  {
   "cell_type": "markdown",
   "id": "6b10d6ef",
   "metadata": {},
   "source": [
    "#3 How many male and female customers are there in the dataset?"
   ]
  },
  {
   "cell_type": "code",
   "execution_count": 10,
   "id": "af5a7d91",
   "metadata": {},
   "outputs": [
    {
     "name": "stdout",
     "output_type": "stream",
     "text": [
      "sex\n",
      "Male      157\n",
      "Female     87\n",
      "Name: count, dtype: int64\n"
     ]
    }
   ],
   "source": [
    "print(df['sex'].value_counts())"
   ]
  },
  {
   "cell_type": "markdown",
   "id": "4d6a0966",
   "metadata": {},
   "source": [
    "#4 Print the names of customers who left a tip greater than $10"
   ]
  },
  {
   "cell_type": "code",
   "execution_count": 11,
   "id": "e7aa887b",
   "metadata": {},
   "outputs": [
    {
     "name": "stdout",
     "output_type": "stream",
     "text": [
      "Series([], Name: total_bill, dtype: float64)\n"
     ]
    }
   ],
   "source": [
    "print(df[df['tip'] > 10]['total_bill'])"
   ]
  },
  {
   "cell_type": "markdown",
   "id": "c8cb372e",
   "metadata": {},
   "source": [
    "#5 How many entries are there for each day of the week?"
   ]
  },
  {
   "cell_type": "code",
   "execution_count": 12,
   "id": "551ceb61",
   "metadata": {},
   "outputs": [
    {
     "name": "stdout",
     "output_type": "stream",
     "text": [
      "day\n",
      "Sat     87\n",
      "Sun     76\n",
      "Thur    62\n",
      "Fri     19\n",
      "Name: count, dtype: int64\n"
     ]
    }
   ],
   "source": [
    "print(df['day'].value_counts())"
   ]
  },
  {
   "cell_type": "markdown",
   "id": "15fe4e8e",
   "metadata": {},
   "source": [
    "#6 Print the average total bill amount for each day of the week."
   ]
  },
  {
   "cell_type": "code",
   "execution_count": 13,
   "id": "8fa60600",
   "metadata": {},
   "outputs": [
    {
     "name": "stdout",
     "output_type": "stream",
     "text": [
      "day\n",
      "Fri     17.151579\n",
      "Sat     20.441379\n",
      "Sun     21.410000\n",
      "Thur    17.682742\n",
      "Name: total_bill, dtype: float64\n"
     ]
    }
   ],
   "source": [
    "print(df.groupby('day')['total_bill'].mean())"
   ]
  },
  {
   "cell_type": "markdown",
   "id": "4d3b1555",
   "metadata": {},
   "source": [
    "#7 How many entries are there for lunch and dinner?"
   ]
  },
  {
   "cell_type": "code",
   "execution_count": 14,
   "id": "050885a0",
   "metadata": {},
   "outputs": [
    {
     "name": "stdout",
     "output_type": "stream",
     "text": [
      "time\n",
      "Dinner    176\n",
      "Lunch      68\n",
      "Name: count, dtype: int64\n"
     ]
    }
   ],
   "source": [
    "print(df['time'].value_counts())"
   ]
  },
  {
   "cell_type": "markdown",
   "id": "4b35de60",
   "metadata": {},
   "source": [
    "#8 Print the names of customers who visited on Sunday."
   ]
  },
  {
   "cell_type": "code",
   "execution_count": 15,
   "id": "4bad5bbc",
   "metadata": {},
   "outputs": [
    {
     "name": "stdout",
     "output_type": "stream",
     "text": [
      "0      Female\n",
      "1        Male\n",
      "2        Male\n",
      "3        Male\n",
      "4      Female\n",
      "        ...  \n",
      "186    Female\n",
      "187      Male\n",
      "188    Female\n",
      "189      Male\n",
      "190      Male\n",
      "Name: sex, Length: 76, dtype: object\n"
     ]
    }
   ],
   "source": [
    "\n",
    "print(df[df['day'] == 'Sun']['sex'])"
   ]
  },
  {
   "cell_type": "markdown",
   "id": "4ebeb152",
   "metadata": {},
   "source": [
    "#9 Plot the distribution of tip amounts."
   ]
  },
  {
   "cell_type": "code",
   "execution_count": 16,
   "id": "0b0788ac",
   "metadata": {},
   "outputs": [
    {
     "data": {
      "image/png": "[encoded data removed]",
      "text/plain": [
       "<Figure size 640x480 with 1 Axes>"
      ]
     },
     "metadata": {},
     "output_type": "display_data"
    }
   ],
   "source": [
    "df['tip'].hist()\n",
    "plt.title('Distribution of Tip Amounts')\n",
    "plt.xlabel('Tip')\n",
    "plt.ylabel('Frequency')\n",
    "plt.show()"
   ]
  },
  {
   "cell_type": "markdown",
   "id": "d84e8df6",
   "metadata": {},
   "source": [
    "#10 Plot the average tip amount by time of day."
   ]
  },
  {
   "cell_type": "code",
   "execution_count": 17,
   "id": "8eff780e",
   "metadata": {},
   "outputs": [
    {
     "data": {
      "image/png": "[encoded data removed]",
      "text/plain": [
       "<Figure size 640x480 with 1 Axes>"
      ]
     },
     "metadata": {},
     "output_type": "display_data"
    }
   ],
   "source": [
    "df.groupby('time')['tip'].mean().plot(kind='bar')\n",
    "plt.title('Average Tip Amount by Time of Day')\n",
    "plt.xlabel('Time of Day')\n",
    "plt.ylabel('Average Tip')\n",
    "plt.show()"
   ]
  },
  {
   "cell_type": "markdown",
   "id": "4aaa732d",
   "metadata": {},
   "source": [
    "#11 Calculate the percentage of total bill amount given as a tip for each entry."
   ]
  },
  {
   "cell_type": "code",
   "execution_count": 19,
   "id": "7829ebe3",
   "metadata": {},
   "outputs": [],
   "source": [
    "df['tip_percentage'] = (df['tip'] / df['total_bill']) * 100"
   ]
  },
  {
   "cell_type": "code",
   "execution_count": 20,
   "id": "d0328544",
   "metadata": {},
   "outputs": [
    {
     "data": {
      "text/plain": [
       "0      1.01\n",
       "1      1.66\n",
       "2      3.50\n",
       "3      3.31\n",
       "4      3.61\n",
       "       ... \n",
       "239    5.92\n",
       "240    2.00\n",
       "241    2.00\n",
       "242    1.75\n",
       "243    3.00\n",
       "Name: tip, Length: 244, dtype: float64"
      ]
     },
     "execution_count": 20,
     "metadata": {},
     "output_type": "execute_result"
    }
   ],
   "source": [
    "df['tip']"
   ]
  },
  {
   "cell_type": "markdown",
   "id": "93dfe83e",
   "metadata": {},
   "source": [
    "#12 Print the names of customers who gave the highest and lowest percentages of tips."
   ]
  },
  {
   "cell_type": "code",
   "execution_count": 31,
   "id": "da9a8fd4",
   "metadata": {},
   "outputs": [
    {
     "name": "stdout",
     "output_type": "stream",
     "text": [
      "Highest percentage of tip given: 71.0344827586207\n"
     ]
    }
   ],
   "source": [
    "highest_percent_tips = df['tip_percentage'].max()\n",
    "print(\"Highest percentage of tip given:\", highest_percent_tips)"
   ]
  },
  {
   "cell_type": "code",
   "execution_count": 33,
   "id": "c41fa289",
   "metadata": {},
   "outputs": [
    {
     "name": "stdout",
     "output_type": "stream",
     "text": [
      "lowest percentage of tip given: 3.563813585135547\n"
     ]
    }
   ],
   "source": [
    "lowest_percent_tips = df['tip_percentage'].min()\n",
    "print(\"lowest percentage of tip given:\", lowest_percent_tips)"
   ]
  },
  {
   "cell_type": "markdown",
   "id": "4388d8f8",
   "metadata": {},
   "source": [
    "#13 Plot the distribution of total bill amounts by day of the week."
   ]
  },
  {
   "cell_type": "code",
   "execution_count": 23,
   "id": "e048a6d0",
   "metadata": {},
   "outputs": [
    {
     "data": {
      "image/png": "[encoded data removed]",
      "text/plain": [
       "<Figure size 640x480 with 1 Axes>"
      ]
     },
     "metadata": {},
     "output_type": "display_data"
    }
   ],
   "source": [
    "sns.boxplot(x='day', y='total_bill', data=df)\n",
    "plt.show()"
   ]
  },
  {
   "cell_type": "markdown",
   "id": "2a11ea1b",
   "metadata": {},
   "source": [
    "#14 Plot the average total bill amount by party size."
   ]
  },
  {
   "cell_type": "code",
   "execution_count": 24,
   "id": "e8c0876c",
   "metadata": {},
   "outputs": [
    {
     "data": {
      "image/png": "[encoded data removed]",
      "text/plain": [
       "<Figure size 640x480 with 1 Axes>"
      ]
     },
     "metadata": {},
     "output_type": "display_data"
    }
   ],
   "source": [
    "df.groupby('size')['total_bill'].mean().plot(kind='bar')\n",
    "plt.title('Average Total Bill Amount by Party Size')\n",
    "plt.xlabel('Party Size')\n",
    "plt.ylabel('Average Total Bill')\n",
    "plt.show()"
   ]
  },
  {
   "cell_type": "markdown",
   "id": "b28246c8",
   "metadata": {},
   "source": [
    "#15 Calculate the correlation between total bill amount and tip amount"
   ]
  },
  {
   "cell_type": "code",
   "execution_count": 27,
   "id": "66749cb7",
   "metadata": {},
   "outputs": [
    {
     "name": "stdout",
     "output_type": "stream",
     "text": [
      "            total_bill       tip\n",
      "total_bill    1.000000  0.675734\n",
      "tip           0.675734  1.000000\n"
     ]
    }
   ],
   "source": [
    "print(df[['total_bill', 'tip']].corr())"
   ]
  },
  {
   "cell_type": "code",
   "execution_count": null,
   "id": "8a4d0aae",
   "metadata": {},
   "outputs": [],
   "source": []
  }
 ],
 "metadata": {
  "kernelspec": {
   "display_name": "Python 3 (ipykernel)",
   "language": "python",
   "name": "python3"
  },
  "language_info": {
   "codemirror_mode": {
    "name": "ipython",
    "version": 3
   },
   "file_extension": ".py",
   "mimetype": "text/x-python",
   "name": "python",
   "nbconvert_exporter": "python",
   "pygments_lexer": "ipython3",
   "version": "3.11.5"
  }
 },
 "nbformat": 4,
 "nbformat_minor": 5
}
